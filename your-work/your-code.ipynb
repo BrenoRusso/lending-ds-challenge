{
 "cells": [
  {
   "cell_type": "markdown",
   "source": [
    "# Data Science Challenge\n",
    "The provided structure is offered as a guiding framework, but you are encouraged to tailor it to your preferences. Feel free to import alternative libraries, and feel empowered to include new cells that suit your specific requirements and creative insights. Your unique approach and explorations are highly valued."
   ],
   "metadata": {
    "collapsed": false
   },
   "id": "38fb0a87f0b1400e"
  },
  {
   "cell_type": "code",
   "execution_count": 1,
   "outputs": [],
   "source": [
    "# Import necessary libraries\n",
    "import pandas as pd\n",
    "import numpy as np\n",
    "import matplotlib.pyplot as plt\n",
    "import seaborn as sns\n",
    "from sklearn.model_selection import train_test_split\n",
    "from sklearn.preprocessing import OneHotEncoder\n",
    "from sklearn.metrics import classification_report, confusion_matrix"
   ],
   "metadata": {
    "collapsed": false,
    "ExecuteTime": {
     "end_time": "2023-08-16T21:41:27.067733Z",
     "start_time": "2023-08-16T21:41:26.790179Z"
    }
   },
   "id": "initial_id"
  },
  {
   "cell_type": "markdown",
   "source": [
    "## Import dataset"
   ],
   "metadata": {
    "collapsed": false
   },
   "id": "6de56b51932f25f0"
  },
  {
   "cell_type": "code",
   "execution_count": 2,
   "outputs": [
    {
     "data": {
      "text/plain": "   Unnamed: 0 Status of existing checking account  Duration in months  \\\n0           0                                 A11                   6   \n1           1                                 A12                  48   \n2           2                                 A14                  12   \n3           3                                 A11                  42   \n4           4                                 A11                  24   \n\n  Credit history Purpose  Credit amount Savings account/bonds  \\\n0            A34     A43           1169                   A65   \n1            A32     A43           5951                   A61   \n2            A34     A46           2096                   A61   \n3            A32     A42           7882                   A61   \n4            A33     A40           4870                   A61   \n\n  Present employment since  \\\n0                      A75   \n1                      A73   \n2                      A74   \n3                      A74   \n4                      A73   \n\n   Installment rate in percentage of disposable income  \\\n0                                                  4     \n1                                                  2     \n2                                                  2     \n3                                                  2     \n4                                                  3     \n\n  Personal status and sex  ... Age in years  Other installment plans Housing  \\\n0                     A93  ...           67                     A143    A152   \n1                     A92  ...           22                     A143    A152   \n2                     A93  ...           49                     A143    A152   \n3                     A93  ...           45                     A143    A153   \n4                     A93  ...           53                     A143    A153   \n\n   Number of existing credits at this bank   Job  \\\n0                                        2  A173   \n1                                        1  A173   \n2                                        1  A172   \n3                                        1  A173   \n4                                        2  A173   \n\n  Number of people being liable to provide maintenance for  Telephone  \\\n0                                                  1             A192   \n1                                                  1             A191   \n2                                                  2             A191   \n3                                                  2             A191   \n4                                                  2             A191   \n\n  Foreign worker  Credit risk Number of Accounts  \n0           A201            1                  1  \n1           A201            2                  2  \n2           A201            1                  1  \n3           A201            1                  1  \n4           A201            2                  2  \n\n[5 rows x 23 columns]",
      "text/html": "<div>\n<style scoped>\n    .dataframe tbody tr th:only-of-type {\n        vertical-align: middle;\n    }\n\n    .dataframe tbody tr th {\n        vertical-align: top;\n    }\n\n    .dataframe thead th {\n        text-align: right;\n    }\n</style>\n<table border=\"1\" class=\"dataframe\">\n  <thead>\n    <tr style=\"text-align: right;\">\n      <th></th>\n      <th>Unnamed: 0</th>\n      <th>Status of existing checking account</th>\n      <th>Duration in months</th>\n      <th>Credit history</th>\n      <th>Purpose</th>\n      <th>Credit amount</th>\n      <th>Savings account/bonds</th>\n      <th>Present employment since</th>\n      <th>Installment rate in percentage of disposable income</th>\n      <th>Personal status and sex</th>\n      <th>...</th>\n      <th>Age in years</th>\n      <th>Other installment plans</th>\n      <th>Housing</th>\n      <th>Number of existing credits at this bank</th>\n      <th>Job</th>\n      <th>Number of people being liable to provide maintenance for</th>\n      <th>Telephone</th>\n      <th>Foreign worker</th>\n      <th>Credit risk</th>\n      <th>Number of Accounts</th>\n    </tr>\n  </thead>\n  <tbody>\n    <tr>\n      <th>0</th>\n      <td>0</td>\n      <td>A11</td>\n      <td>6</td>\n      <td>A34</td>\n      <td>A43</td>\n      <td>1169</td>\n      <td>A65</td>\n      <td>A75</td>\n      <td>4</td>\n      <td>A93</td>\n      <td>...</td>\n      <td>67</td>\n      <td>A143</td>\n      <td>A152</td>\n      <td>2</td>\n      <td>A173</td>\n      <td>1</td>\n      <td>A192</td>\n      <td>A201</td>\n      <td>1</td>\n      <td>1</td>\n    </tr>\n    <tr>\n      <th>1</th>\n      <td>1</td>\n      <td>A12</td>\n      <td>48</td>\n      <td>A32</td>\n      <td>A43</td>\n      <td>5951</td>\n      <td>A61</td>\n      <td>A73</td>\n      <td>2</td>\n      <td>A92</td>\n      <td>...</td>\n      <td>22</td>\n      <td>A143</td>\n      <td>A152</td>\n      <td>1</td>\n      <td>A173</td>\n      <td>1</td>\n      <td>A191</td>\n      <td>A201</td>\n      <td>2</td>\n      <td>2</td>\n    </tr>\n    <tr>\n      <th>2</th>\n      <td>2</td>\n      <td>A14</td>\n      <td>12</td>\n      <td>A34</td>\n      <td>A46</td>\n      <td>2096</td>\n      <td>A61</td>\n      <td>A74</td>\n      <td>2</td>\n      <td>A93</td>\n      <td>...</td>\n      <td>49</td>\n      <td>A143</td>\n      <td>A152</td>\n      <td>1</td>\n      <td>A172</td>\n      <td>2</td>\n      <td>A191</td>\n      <td>A201</td>\n      <td>1</td>\n      <td>1</td>\n    </tr>\n    <tr>\n      <th>3</th>\n      <td>3</td>\n      <td>A11</td>\n      <td>42</td>\n      <td>A32</td>\n      <td>A42</td>\n      <td>7882</td>\n      <td>A61</td>\n      <td>A74</td>\n      <td>2</td>\n      <td>A93</td>\n      <td>...</td>\n      <td>45</td>\n      <td>A143</td>\n      <td>A153</td>\n      <td>1</td>\n      <td>A173</td>\n      <td>2</td>\n      <td>A191</td>\n      <td>A201</td>\n      <td>1</td>\n      <td>1</td>\n    </tr>\n    <tr>\n      <th>4</th>\n      <td>4</td>\n      <td>A11</td>\n      <td>24</td>\n      <td>A33</td>\n      <td>A40</td>\n      <td>4870</td>\n      <td>A61</td>\n      <td>A73</td>\n      <td>3</td>\n      <td>A93</td>\n      <td>...</td>\n      <td>53</td>\n      <td>A143</td>\n      <td>A153</td>\n      <td>2</td>\n      <td>A173</td>\n      <td>2</td>\n      <td>A191</td>\n      <td>A201</td>\n      <td>2</td>\n      <td>2</td>\n    </tr>\n  </tbody>\n</table>\n<p>5 rows × 23 columns</p>\n</div>"
     },
     "execution_count": 2,
     "metadata": {},
     "output_type": "execute_result"
    }
   ],
   "source": [
    "# Load the dataset\n",
    "data = pd.read_csv('../data/dataset.csv')\n",
    "\n",
    "# Display the first few rows of the dataset\n",
    "data.head()"
   ],
   "metadata": {
    "collapsed": false,
    "ExecuteTime": {
     "end_time": "2023-08-16T21:41:27.109602Z",
     "start_time": "2023-08-16T21:41:27.073063Z"
    }
   },
   "id": "764d304b3d9c10a5"
  },
  {
   "cell_type": "markdown",
   "source": [
    "# Task 1: Data Preprocessing\n",
    "1- Handle missing values (if any)\n",
    "2- Convert categorical variables to numeric using one-hot encoding\n",
    "3- Split the data into features (X) and target variable (y)"
   ],
   "metadata": {
    "collapsed": false
   },
   "id": "c0ea99dac238abad"
  },
  {
   "cell_type": "code",
   "execution_count": 2,
   "outputs": [],
   "source": [],
   "metadata": {
    "collapsed": false,
    "ExecuteTime": {
     "end_time": "2023-08-16T21:41:27.118876Z",
     "start_time": "2023-08-16T21:41:27.111396Z"
    }
   },
   "id": "c807264e691a3010"
  },
  {
   "cell_type": "code",
   "execution_count": 2,
   "outputs": [],
   "source": [],
   "metadata": {
    "collapsed": false,
    "ExecuteTime": {
     "end_time": "2023-08-16T21:41:27.139093Z",
     "start_time": "2023-08-16T21:41:27.118099Z"
    }
   },
   "id": "a2f32847b256281a"
  },
  {
   "cell_type": "code",
   "execution_count": 2,
   "outputs": [],
   "source": [],
   "metadata": {
    "collapsed": false,
    "ExecuteTime": {
     "end_time": "2023-08-16T21:41:27.161634Z",
     "start_time": "2023-08-16T21:41:27.124965Z"
    }
   },
   "id": "11b403e1b14af433"
  },
  {
   "cell_type": "markdown",
   "source": [
    "# Task 2: Exploratory Data Analysis (EDA)\n",
    "1- Perform statistical analysis\n",
    "2- Visualize key features and their relationships with the target variable"
   ],
   "metadata": {
    "collapsed": false
   },
   "id": "dd3fc73e96803668"
  },
  {
   "cell_type": "code",
   "execution_count": 2,
   "outputs": [],
   "source": [],
   "metadata": {
    "collapsed": false,
    "ExecuteTime": {
     "end_time": "2023-08-16T21:41:27.162883Z",
     "start_time": "2023-08-16T21:41:27.139756Z"
    }
   },
   "id": "3d8607073a8bb686"
  },
  {
   "cell_type": "code",
   "execution_count": 2,
   "outputs": [],
   "source": [],
   "metadata": {
    "collapsed": false,
    "ExecuteTime": {
     "end_time": "2023-08-16T21:41:27.204481Z",
     "start_time": "2023-08-16T21:41:27.146286Z"
    }
   },
   "id": "499dfaf48e4fd1ec"
  },
  {
   "cell_type": "code",
   "execution_count": 2,
   "outputs": [],
   "source": [],
   "metadata": {
    "collapsed": false,
    "ExecuteTime": {
     "end_time": "2023-08-16T21:41:27.239487Z",
     "start_time": "2023-08-16T21:41:27.161500Z"
    }
   },
   "id": "18f2bca1dec9683e"
  },
  {
   "cell_type": "code",
   "execution_count": 2,
   "outputs": [],
   "source": [],
   "metadata": {
    "collapsed": false,
    "ExecuteTime": {
     "end_time": "2023-08-16T21:41:27.240682Z",
     "start_time": "2023-08-16T21:41:27.166319Z"
    }
   },
   "id": "483d245ce93b00fb"
  },
  {
   "cell_type": "code",
   "execution_count": 2,
   "outputs": [],
   "source": [],
   "metadata": {
    "collapsed": false,
    "ExecuteTime": {
     "end_time": "2023-08-16T21:41:27.419251Z",
     "start_time": "2023-08-16T21:41:27.173260Z"
    }
   },
   "id": "8a5b180cc97b64e6"
  },
  {
   "cell_type": "code",
   "execution_count": 2,
   "outputs": [],
   "source": [],
   "metadata": {
    "collapsed": false,
    "ExecuteTime": {
     "end_time": "2023-08-16T21:41:27.420301Z",
     "start_time": "2023-08-16T21:41:27.200175Z"
    }
   },
   "id": "c8e5e6be516caa53"
  },
  {
   "cell_type": "markdown",
   "source": [
    "# Task 3: Model Selection and Training\n",
    "\n",
    "1- Choose a classification algorithm\n",
    "2- Split the data into training and testing sets\n",
    "2- Train the model using the training data"
   ],
   "metadata": {
    "collapsed": false
   },
   "id": "def13afe5cdbf7f2"
  },
  {
   "cell_type": "code",
   "execution_count": 2,
   "outputs": [],
   "source": [],
   "metadata": {
    "collapsed": false,
    "ExecuteTime": {
     "end_time": "2023-08-16T21:41:27.420775Z",
     "start_time": "2023-08-16T21:41:27.206219Z"
    }
   },
   "id": "2fb1ac5bd2a96748"
  },
  {
   "cell_type": "code",
   "execution_count": 2,
   "outputs": [],
   "source": [],
   "metadata": {
    "collapsed": false,
    "ExecuteTime": {
     "end_time": "2023-08-16T21:41:27.421114Z",
     "start_time": "2023-08-16T21:41:27.214753Z"
    }
   },
   "id": "cf37d3ad3dec1fcf"
  },
  {
   "cell_type": "code",
   "execution_count": 2,
   "outputs": [],
   "source": [],
   "metadata": {
    "collapsed": false,
    "ExecuteTime": {
     "end_time": "2023-08-16T21:41:27.421444Z",
     "start_time": "2023-08-16T21:41:27.221894Z"
    }
   },
   "id": "ad2dc8eea79ba46e"
  },
  {
   "cell_type": "code",
   "execution_count": 2,
   "outputs": [],
   "source": [],
   "metadata": {
    "collapsed": false,
    "ExecuteTime": {
     "end_time": "2023-08-16T21:41:27.422189Z",
     "start_time": "2023-08-16T21:41:27.230599Z"
    }
   },
   "id": "7eb8178fadf5f158"
  },
  {
   "cell_type": "code",
   "execution_count": 2,
   "outputs": [],
   "source": [],
   "metadata": {
    "collapsed": false,
    "ExecuteTime": {
     "end_time": "2023-08-16T21:41:27.427780Z",
     "start_time": "2023-08-16T21:41:27.239722Z"
    }
   },
   "id": "c995f6466454b3e3"
  },
  {
   "cell_type": "markdown",
   "source": [
    "# Task 4: Model Evaluation\n",
    "\n",
    "1- Evaluate the model's performance on the testing data\n",
    "2- Compute and display essential evaluation metrics\n",
    "3- Provide insights and conclusions based on the results\n"
   ],
   "metadata": {
    "collapsed": false
   },
   "id": "acedf937065b4f85"
  },
  {
   "cell_type": "code",
   "execution_count": 2,
   "outputs": [],
   "source": [],
   "metadata": {
    "collapsed": false,
    "ExecuteTime": {
     "end_time": "2023-08-16T21:41:27.428107Z",
     "start_time": "2023-08-16T21:41:27.247508Z"
    }
   },
   "id": "75c3e83572b57f4"
  },
  {
   "cell_type": "code",
   "execution_count": 2,
   "outputs": [],
   "source": [],
   "metadata": {
    "collapsed": false,
    "ExecuteTime": {
     "end_time": "2023-08-16T21:41:27.428334Z",
     "start_time": "2023-08-16T21:41:27.255262Z"
    }
   },
   "id": "36369825928b7b9b"
  },
  {
   "cell_type": "code",
   "execution_count": 2,
   "outputs": [],
   "source": [],
   "metadata": {
    "collapsed": false,
    "ExecuteTime": {
     "end_time": "2023-08-16T21:41:27.428469Z",
     "start_time": "2023-08-16T21:41:27.260231Z"
    }
   },
   "id": "519ebace0ea28d40"
  },
  {
   "cell_type": "code",
   "execution_count": 2,
   "outputs": [],
   "source": [],
   "metadata": {
    "collapsed": false,
    "ExecuteTime": {
     "end_time": "2023-08-16T21:41:27.428574Z",
     "start_time": "2023-08-16T21:41:27.269736Z"
    }
   },
   "id": "c7276b8a79f3cbba"
  }
 ],
 "metadata": {
  "kernelspec": {
   "display_name": "Python 3",
   "language": "python",
   "name": "python3"
  },
  "language_info": {
   "codemirror_mode": {
    "name": "ipython",
    "version": 2
   },
   "file_extension": ".py",
   "mimetype": "text/x-python",
   "name": "python",
   "nbconvert_exporter": "python",
   "pygments_lexer": "ipython2",
   "version": "2.7.6"
  }
 },
 "nbformat": 4,
 "nbformat_minor": 5
}
